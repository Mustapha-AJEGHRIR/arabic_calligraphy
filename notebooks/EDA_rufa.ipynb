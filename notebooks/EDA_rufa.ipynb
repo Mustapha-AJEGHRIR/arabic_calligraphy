{
 "cells": [
  {
   "cell_type": "markdown",
   "metadata": {},
   "source": [
    "# Imports"
   ]
  },
  {
   "cell_type": "code",
   "execution_count": 3,
   "metadata": {},
   "outputs": [],
   "source": [
    "import os"
   ]
  },
  {
   "cell_type": "markdown",
   "metadata": {},
   "source": [
    "Constants"
   ]
  },
  {
   "cell_type": "code",
   "execution_count": 4,
   "metadata": {},
   "outputs": [],
   "source": [
    "RUFA_PATH = '../data/rufa/'"
   ]
  },
  {
   "cell_type": "markdown",
   "metadata": {},
   "source": [
    "### Explore dataset"
   ]
  },
  {
   "cell_type": "code",
   "execution_count": 5,
   "metadata": {},
   "outputs": [
    {
     "name": "stdout",
     "output_type": "stream",
     "text": [
      "# of real Ruqaa images:  260\n",
      "# of real Farsi images:  256\n",
      "# synthesized Ruqaa:  20000\n",
      "# synthesized Farsi:  20000\n"
     ]
    }
   ],
   "source": [
    "print('# of real Ruqaa images: ', len(os.listdir( RUFA_PATH + '/real/ruqaa/')))\n",
    "print('# of real Farsi images: ', len(os.listdir( RUFA_PATH + '/real/farsi/')))\n",
    "print('# synthesized Ruqaa: ', len(os.listdir( RUFA_PATH + '/synth/ruqaa/')))\n",
    "print('# synthesized Farsi: ', len(os.listdir( RUFA_PATH + '/synth/farsi/')))"
   ]
  },
  {
   "cell_type": "code",
   "execution_count": 18,
   "metadata": {},
   "outputs": [
    {
     "name": "stdout",
     "output_type": "stream",
     "text": [
      "real Ruqa images shape:  \t (100, 100)\n",
      "real farsi images shape: \t (100, 100)\n",
      "synth Ruqa images shape: \t (100, 100)\n",
      "synth farsi images shape: \t (100, 100)\n"
     ]
    }
   ],
   "source": [
    "from PIL import Image\n",
    "print(\"real Ruqa images shape:  \\t\", Image.open(RUFA_PATH + '/real/ruqaa/' + os.listdir( RUFA_PATH + '/real/ruqaa/')[0]).size)\n",
    "print(\"real farsi images shape: \\t\", Image.open(RUFA_PATH + '/real/farsi/' + os.listdir( RUFA_PATH + '/real/farsi/')[0]).size)\n",
    "print(\"synth Ruqa images shape: \\t\", Image.open(RUFA_PATH + '/synth/ruqaa/' + os.listdir( RUFA_PATH + '/synth/ruqaa/')[0]).size)\n",
    "print(\"synth farsi images shape: \\t\", Image.open(RUFA_PATH + '/synth/farsi/' + os.listdir( RUFA_PATH + '/synth/farsi/')[0]).size)"
   ]
  }
 ],
 "metadata": {
  "interpreter": {
   "hash": "34a01c7cbd4d230e2daaa44d8acb4ab26fe27453faf910e8270bab9ecc3bb26f"
  },
  "kernelspec": {
   "display_name": "Python 3.9.9 ('series_forcasting')",
   "language": "python",
   "name": "python3"
  },
  "language_info": {
   "codemirror_mode": {
    "name": "ipython",
    "version": 3
   },
   "file_extension": ".py",
   "mimetype": "text/x-python",
   "name": "python",
   "nbconvert_exporter": "python",
   "pygments_lexer": "ipython3",
   "version": "3.9.6"
  },
  "orig_nbformat": 4
 },
 "nbformat": 4,
 "nbformat_minor": 2
}
